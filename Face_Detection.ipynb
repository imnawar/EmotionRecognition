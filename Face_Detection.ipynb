{
  "nbformat": 4,
  "nbformat_minor": 0,
  "metadata": {
    "colab": {
      "provenance": [],
      "authorship_tag": "ABX9TyPT9PheqVK4wKTrQZL6B2Uy",
      "include_colab_link": true
    },
    "kernelspec": {
      "name": "python3",
      "display_name": "Python 3"
    },
    "language_info": {
      "name": "python"
    },
    "widgets": {
      "application/vnd.jupyter.widget-state+json": {
        "2c860e30c5434996b3126e1aa56343c1": {
          "model_module": "@jupyter-widgets/controls",
          "model_name": "HBoxModel",
          "model_module_version": "1.5.0",
          "state": {
            "_dom_classes": [],
            "_model_module": "@jupyter-widgets/controls",
            "_model_module_version": "1.5.0",
            "_model_name": "HBoxModel",
            "_view_count": null,
            "_view_module": "@jupyter-widgets/controls",
            "_view_module_version": "1.5.0",
            "_view_name": "HBoxView",
            "box_style": "",
            "children": [
              "IPY_MODEL_5cfb08a16d134970a9fdb3ab64a32549",
              "IPY_MODEL_814a6b5e6ad648428394f0279982c30c",
              "IPY_MODEL_3146aa4c8aca4edfa322a08a0c8b38c7"
            ],
            "layout": "IPY_MODEL_f06cf772c7a04abf9fc07ba211283962"
          }
        },
        "5cfb08a16d134970a9fdb3ab64a32549": {
          "model_module": "@jupyter-widgets/controls",
          "model_name": "HTMLModel",
          "model_module_version": "1.5.0",
          "state": {
            "_dom_classes": [],
            "_model_module": "@jupyter-widgets/controls",
            "_model_module_version": "1.5.0",
            "_model_name": "HTMLModel",
            "_view_count": null,
            "_view_module": "@jupyter-widgets/controls",
            "_view_module_version": "1.5.0",
            "_view_name": "HTMLView",
            "description": "",
            "description_tooltip": null,
            "layout": "IPY_MODEL_337390a6f1214f78bad58da2704177ee",
            "placeholder": "​",
            "style": "IPY_MODEL_c61d08f56cfb44a4bda1d06bbc257fc2",
            "value": "  0%"
          }
        },
        "814a6b5e6ad648428394f0279982c30c": {
          "model_module": "@jupyter-widgets/controls",
          "model_name": "FloatProgressModel",
          "model_module_version": "1.5.0",
          "state": {
            "_dom_classes": [],
            "_model_module": "@jupyter-widgets/controls",
            "_model_module_version": "1.5.0",
            "_model_name": "FloatProgressModel",
            "_view_count": null,
            "_view_module": "@jupyter-widgets/controls",
            "_view_module_version": "1.5.0",
            "_view_name": "ProgressView",
            "bar_style": "",
            "description": "",
            "description_tooltip": null,
            "layout": "IPY_MODEL_ae6f5ddbd7dc43289caeb29cd69dfed2",
            "max": 10,
            "min": 0,
            "orientation": "horizontal",
            "style": "IPY_MODEL_9916b261029d41a69096c3ffc2e2760a",
            "value": 0
          }
        },
        "3146aa4c8aca4edfa322a08a0c8b38c7": {
          "model_module": "@jupyter-widgets/controls",
          "model_name": "HTMLModel",
          "model_module_version": "1.5.0",
          "state": {
            "_dom_classes": [],
            "_model_module": "@jupyter-widgets/controls",
            "_model_module_version": "1.5.0",
            "_model_name": "HTMLModel",
            "_view_count": null,
            "_view_module": "@jupyter-widgets/controls",
            "_view_module_version": "1.5.0",
            "_view_name": "HTMLView",
            "description": "",
            "description_tooltip": null,
            "layout": "IPY_MODEL_bf2b6bfc25624d128e5d0f16b6121baf",
            "placeholder": "​",
            "style": "IPY_MODEL_38533f782e434f4a93e9e77a81dcbb5e",
            "value": " 0/10 [00:00&lt;?, ?it/s]"
          }
        },
        "f06cf772c7a04abf9fc07ba211283962": {
          "model_module": "@jupyter-widgets/base",
          "model_name": "LayoutModel",
          "model_module_version": "1.2.0",
          "state": {
            "_model_module": "@jupyter-widgets/base",
            "_model_module_version": "1.2.0",
            "_model_name": "LayoutModel",
            "_view_count": null,
            "_view_module": "@jupyter-widgets/base",
            "_view_module_version": "1.2.0",
            "_view_name": "LayoutView",
            "align_content": null,
            "align_items": null,
            "align_self": null,
            "border": null,
            "bottom": null,
            "display": null,
            "flex": null,
            "flex_flow": null,
            "grid_area": null,
            "grid_auto_columns": null,
            "grid_auto_flow": null,
            "grid_auto_rows": null,
            "grid_column": null,
            "grid_gap": null,
            "grid_row": null,
            "grid_template_areas": null,
            "grid_template_columns": null,
            "grid_template_rows": null,
            "height": null,
            "justify_content": null,
            "justify_items": null,
            "left": null,
            "margin": null,
            "max_height": null,
            "max_width": null,
            "min_height": null,
            "min_width": null,
            "object_fit": null,
            "object_position": null,
            "order": null,
            "overflow": null,
            "overflow_x": null,
            "overflow_y": null,
            "padding": null,
            "right": null,
            "top": null,
            "visibility": null,
            "width": null
          }
        },
        "337390a6f1214f78bad58da2704177ee": {
          "model_module": "@jupyter-widgets/base",
          "model_name": "LayoutModel",
          "model_module_version": "1.2.0",
          "state": {
            "_model_module": "@jupyter-widgets/base",
            "_model_module_version": "1.2.0",
            "_model_name": "LayoutModel",
            "_view_count": null,
            "_view_module": "@jupyter-widgets/base",
            "_view_module_version": "1.2.0",
            "_view_name": "LayoutView",
            "align_content": null,
            "align_items": null,
            "align_self": null,
            "border": null,
            "bottom": null,
            "display": null,
            "flex": null,
            "flex_flow": null,
            "grid_area": null,
            "grid_auto_columns": null,
            "grid_auto_flow": null,
            "grid_auto_rows": null,
            "grid_column": null,
            "grid_gap": null,
            "grid_row": null,
            "grid_template_areas": null,
            "grid_template_columns": null,
            "grid_template_rows": null,
            "height": null,
            "justify_content": null,
            "justify_items": null,
            "left": null,
            "margin": null,
            "max_height": null,
            "max_width": null,
            "min_height": null,
            "min_width": null,
            "object_fit": null,
            "object_position": null,
            "order": null,
            "overflow": null,
            "overflow_x": null,
            "overflow_y": null,
            "padding": null,
            "right": null,
            "top": null,
            "visibility": null,
            "width": null
          }
        },
        "c61d08f56cfb44a4bda1d06bbc257fc2": {
          "model_module": "@jupyter-widgets/controls",
          "model_name": "DescriptionStyleModel",
          "model_module_version": "1.5.0",
          "state": {
            "_model_module": "@jupyter-widgets/controls",
            "_model_module_version": "1.5.0",
            "_model_name": "DescriptionStyleModel",
            "_view_count": null,
            "_view_module": "@jupyter-widgets/base",
            "_view_module_version": "1.2.0",
            "_view_name": "StyleView",
            "description_width": ""
          }
        },
        "ae6f5ddbd7dc43289caeb29cd69dfed2": {
          "model_module": "@jupyter-widgets/base",
          "model_name": "LayoutModel",
          "model_module_version": "1.2.0",
          "state": {
            "_model_module": "@jupyter-widgets/base",
            "_model_module_version": "1.2.0",
            "_model_name": "LayoutModel",
            "_view_count": null,
            "_view_module": "@jupyter-widgets/base",
            "_view_module_version": "1.2.0",
            "_view_name": "LayoutView",
            "align_content": null,
            "align_items": null,
            "align_self": null,
            "border": null,
            "bottom": null,
            "display": null,
            "flex": null,
            "flex_flow": null,
            "grid_area": null,
            "grid_auto_columns": null,
            "grid_auto_flow": null,
            "grid_auto_rows": null,
            "grid_column": null,
            "grid_gap": null,
            "grid_row": null,
            "grid_template_areas": null,
            "grid_template_columns": null,
            "grid_template_rows": null,
            "height": null,
            "justify_content": null,
            "justify_items": null,
            "left": null,
            "margin": null,
            "max_height": null,
            "max_width": null,
            "min_height": null,
            "min_width": null,
            "object_fit": null,
            "object_position": null,
            "order": null,
            "overflow": null,
            "overflow_x": null,
            "overflow_y": null,
            "padding": null,
            "right": null,
            "top": null,
            "visibility": null,
            "width": null
          }
        },
        "9916b261029d41a69096c3ffc2e2760a": {
          "model_module": "@jupyter-widgets/controls",
          "model_name": "ProgressStyleModel",
          "model_module_version": "1.5.0",
          "state": {
            "_model_module": "@jupyter-widgets/controls",
            "_model_module_version": "1.5.0",
            "_model_name": "ProgressStyleModel",
            "_view_count": null,
            "_view_module": "@jupyter-widgets/base",
            "_view_module_version": "1.2.0",
            "_view_name": "StyleView",
            "bar_color": null,
            "description_width": ""
          }
        },
        "bf2b6bfc25624d128e5d0f16b6121baf": {
          "model_module": "@jupyter-widgets/base",
          "model_name": "LayoutModel",
          "model_module_version": "1.2.0",
          "state": {
            "_model_module": "@jupyter-widgets/base",
            "_model_module_version": "1.2.0",
            "_model_name": "LayoutModel",
            "_view_count": null,
            "_view_module": "@jupyter-widgets/base",
            "_view_module_version": "1.2.0",
            "_view_name": "LayoutView",
            "align_content": null,
            "align_items": null,
            "align_self": null,
            "border": null,
            "bottom": null,
            "display": null,
            "flex": null,
            "flex_flow": null,
            "grid_area": null,
            "grid_auto_columns": null,
            "grid_auto_flow": null,
            "grid_auto_rows": null,
            "grid_column": null,
            "grid_gap": null,
            "grid_row": null,
            "grid_template_areas": null,
            "grid_template_columns": null,
            "grid_template_rows": null,
            "height": null,
            "justify_content": null,
            "justify_items": null,
            "left": null,
            "margin": null,
            "max_height": null,
            "max_width": null,
            "min_height": null,
            "min_width": null,
            "object_fit": null,
            "object_position": null,
            "order": null,
            "overflow": null,
            "overflow_x": null,
            "overflow_y": null,
            "padding": null,
            "right": null,
            "top": null,
            "visibility": null,
            "width": null
          }
        },
        "38533f782e434f4a93e9e77a81dcbb5e": {
          "model_module": "@jupyter-widgets/controls",
          "model_name": "DescriptionStyleModel",
          "model_module_version": "1.5.0",
          "state": {
            "_model_module": "@jupyter-widgets/controls",
            "_model_module_version": "1.5.0",
            "_model_name": "DescriptionStyleModel",
            "_view_count": null,
            "_view_module": "@jupyter-widgets/base",
            "_view_module_version": "1.2.0",
            "_view_name": "StyleView",
            "description_width": ""
          }
        }
      }
    }
  },
  "cells": [
    {
      "cell_type": "markdown",
      "metadata": {
        "id": "view-in-github",
        "colab_type": "text"
      },
      "source": [
        "<a href=\"https://colab.research.google.com/github/imnawar/FaceDetection/blob/main/Face_Detection.ipynb\" target=\"_parent\"><img src=\"https://colab.research.google.com/assets/colab-badge.svg\" alt=\"Open In Colab\"/></a>"
      ]
    },
    {
      "cell_type": "code",
      "source": [
        "!pip install torchmetrics"
      ],
      "metadata": {
        "colab": {
          "base_uri": "https://localhost:8080/"
        },
        "id": "pD0Uu1cJ0Pb3",
        "outputId": "e5b5148b-ff26-4e73-b7e7-fb19ac0fbdac"
      },
      "execution_count": null,
      "outputs": [
        {
          "output_type": "stream",
          "name": "stdout",
          "text": [
            "Collecting torchmetrics\n",
            "  Downloading torchmetrics-1.3.2-py3-none-any.whl (841 kB)\n",
            "\u001b[2K     \u001b[90m━━━━━━━━━━━━━━━━━━━━━━━━━━━━━━━━━━━━━━━━\u001b[0m \u001b[32m841.5/841.5 kB\u001b[0m \u001b[31m7.7 MB/s\u001b[0m eta \u001b[36m0:00:00\u001b[0m\n",
            "\u001b[?25hRequirement already satisfied: numpy>1.20.0 in /usr/local/lib/python3.10/dist-packages (from torchmetrics) (1.25.2)\n",
            "Requirement already satisfied: packaging>17.1 in /usr/local/lib/python3.10/dist-packages (from torchmetrics) (24.0)\n",
            "Requirement already satisfied: torch>=1.10.0 in /usr/local/lib/python3.10/dist-packages (from torchmetrics) (2.2.1+cu121)\n",
            "Collecting lightning-utilities>=0.8.0 (from torchmetrics)\n",
            "  Downloading lightning_utilities-0.11.2-py3-none-any.whl (26 kB)\n",
            "Requirement already satisfied: setuptools in /usr/local/lib/python3.10/dist-packages (from lightning-utilities>=0.8.0->torchmetrics) (67.7.2)\n",
            "Requirement already satisfied: typing-extensions in /usr/local/lib/python3.10/dist-packages (from lightning-utilities>=0.8.0->torchmetrics) (4.11.0)\n",
            "Requirement already satisfied: filelock in /usr/local/lib/python3.10/dist-packages (from torch>=1.10.0->torchmetrics) (3.13.4)\n",
            "Requirement already satisfied: sympy in /usr/local/lib/python3.10/dist-packages (from torch>=1.10.0->torchmetrics) (1.12)\n",
            "Requirement already satisfied: networkx in /usr/local/lib/python3.10/dist-packages (from torch>=1.10.0->torchmetrics) (3.3)\n",
            "Requirement already satisfied: jinja2 in /usr/local/lib/python3.10/dist-packages (from torch>=1.10.0->torchmetrics) (3.1.3)\n",
            "Requirement already satisfied: fsspec in /usr/local/lib/python3.10/dist-packages (from torch>=1.10.0->torchmetrics) (2023.6.0)\n",
            "Collecting nvidia-cuda-nvrtc-cu12==12.1.105 (from torch>=1.10.0->torchmetrics)\n",
            "  Using cached nvidia_cuda_nvrtc_cu12-12.1.105-py3-none-manylinux1_x86_64.whl (23.7 MB)\n",
            "Collecting nvidia-cuda-runtime-cu12==12.1.105 (from torch>=1.10.0->torchmetrics)\n",
            "  Using cached nvidia_cuda_runtime_cu12-12.1.105-py3-none-manylinux1_x86_64.whl (823 kB)\n",
            "Collecting nvidia-cuda-cupti-cu12==12.1.105 (from torch>=1.10.0->torchmetrics)\n",
            "  Using cached nvidia_cuda_cupti_cu12-12.1.105-py3-none-manylinux1_x86_64.whl (14.1 MB)\n",
            "Collecting nvidia-cudnn-cu12==8.9.2.26 (from torch>=1.10.0->torchmetrics)\n",
            "  Using cached nvidia_cudnn_cu12-8.9.2.26-py3-none-manylinux1_x86_64.whl (731.7 MB)\n",
            "Collecting nvidia-cublas-cu12==12.1.3.1 (from torch>=1.10.0->torchmetrics)\n",
            "  Using cached nvidia_cublas_cu12-12.1.3.1-py3-none-manylinux1_x86_64.whl (410.6 MB)\n",
            "Collecting nvidia-cufft-cu12==11.0.2.54 (from torch>=1.10.0->torchmetrics)\n",
            "  Using cached nvidia_cufft_cu12-11.0.2.54-py3-none-manylinux1_x86_64.whl (121.6 MB)\n",
            "Collecting nvidia-curand-cu12==10.3.2.106 (from torch>=1.10.0->torchmetrics)\n",
            "  Using cached nvidia_curand_cu12-10.3.2.106-py3-none-manylinux1_x86_64.whl (56.5 MB)\n",
            "Collecting nvidia-cusolver-cu12==11.4.5.107 (from torch>=1.10.0->torchmetrics)\n",
            "  Using cached nvidia_cusolver_cu12-11.4.5.107-py3-none-manylinux1_x86_64.whl (124.2 MB)\n",
            "Collecting nvidia-cusparse-cu12==12.1.0.106 (from torch>=1.10.0->torchmetrics)\n",
            "  Using cached nvidia_cusparse_cu12-12.1.0.106-py3-none-manylinux1_x86_64.whl (196.0 MB)\n",
            "Collecting nvidia-nccl-cu12==2.19.3 (from torch>=1.10.0->torchmetrics)\n",
            "  Using cached nvidia_nccl_cu12-2.19.3-py3-none-manylinux1_x86_64.whl (166.0 MB)\n",
            "Collecting nvidia-nvtx-cu12==12.1.105 (from torch>=1.10.0->torchmetrics)\n",
            "  Using cached nvidia_nvtx_cu12-12.1.105-py3-none-manylinux1_x86_64.whl (99 kB)\n",
            "Requirement already satisfied: triton==2.2.0 in /usr/local/lib/python3.10/dist-packages (from torch>=1.10.0->torchmetrics) (2.2.0)\n",
            "Collecting nvidia-nvjitlink-cu12 (from nvidia-cusolver-cu12==11.4.5.107->torch>=1.10.0->torchmetrics)\n",
            "  Using cached nvidia_nvjitlink_cu12-12.4.127-py3-none-manylinux2014_x86_64.whl (21.1 MB)\n",
            "Requirement already satisfied: MarkupSafe>=2.0 in /usr/local/lib/python3.10/dist-packages (from jinja2->torch>=1.10.0->torchmetrics) (2.1.5)\n",
            "Requirement already satisfied: mpmath>=0.19 in /usr/local/lib/python3.10/dist-packages (from sympy->torch>=1.10.0->torchmetrics) (1.3.0)\n",
            "Installing collected packages: nvidia-nvtx-cu12, nvidia-nvjitlink-cu12, nvidia-nccl-cu12, nvidia-curand-cu12, nvidia-cufft-cu12, nvidia-cuda-runtime-cu12, nvidia-cuda-nvrtc-cu12, nvidia-cuda-cupti-cu12, nvidia-cublas-cu12, lightning-utilities, nvidia-cusparse-cu12, nvidia-cudnn-cu12, nvidia-cusolver-cu12, torchmetrics\n",
            "Successfully installed lightning-utilities-0.11.2 nvidia-cublas-cu12-12.1.3.1 nvidia-cuda-cupti-cu12-12.1.105 nvidia-cuda-nvrtc-cu12-12.1.105 nvidia-cuda-runtime-cu12-12.1.105 nvidia-cudnn-cu12-8.9.2.26 nvidia-cufft-cu12-11.0.2.54 nvidia-curand-cu12-10.3.2.106 nvidia-cusolver-cu12-11.4.5.107 nvidia-cusparse-cu12-12.1.0.106 nvidia-nccl-cu12-2.19.3 nvidia-nvjitlink-cu12-12.4.127 nvidia-nvtx-cu12-12.1.105 torchmetrics-1.3.2\n"
          ]
        }
      ]
    },
    {
      "cell_type": "code",
      "source": [
        "!pip install GPUtil"
      ],
      "metadata": {
        "colab": {
          "base_uri": "https://localhost:8080/"
        },
        "id": "4dJwGg0h0bhB",
        "outputId": "47c7fa3b-9bcf-49c3-b241-3f1bda4fb645"
      },
      "execution_count": null,
      "outputs": [
        {
          "output_type": "stream",
          "name": "stdout",
          "text": [
            "Collecting GPUtil\n",
            "  Downloading GPUtil-1.4.0.tar.gz (5.5 kB)\n",
            "  Preparing metadata (setup.py) ... \u001b[?25l\u001b[?25hdone\n",
            "Building wheels for collected packages: GPUtil\n",
            "  Building wheel for GPUtil (setup.py) ... \u001b[?25l\u001b[?25hdone\n",
            "  Created wheel for GPUtil: filename=GPUtil-1.4.0-py3-none-any.whl size=7394 sha256=f87bac569960b55cbb696e9ad94f9741e52cbd5e41cca329ffd4db185d7ea372\n",
            "  Stored in directory: /root/.cache/pip/wheels/a9/8a/bd/81082387151853ab8b6b3ef33426e98f5cbfebc3c397a9d4d0\n",
            "Successfully built GPUtil\n",
            "Installing collected packages: GPUtil\n",
            "Successfully installed GPUtil-1.4.0\n"
          ]
        }
      ]
    },
    {
      "cell_type": "code",
      "source": [
        "!pip install split-folders"
      ],
      "metadata": {
        "colab": {
          "base_uri": "https://localhost:8080/"
        },
        "id": "jUhWoWPi0aRx",
        "outputId": "6dd17eae-cd51-4fd1-a7b4-363cf8c98e27"
      },
      "execution_count": null,
      "outputs": [
        {
          "output_type": "stream",
          "name": "stdout",
          "text": [
            "Collecting split-folders\n",
            "  Downloading split_folders-0.5.1-py3-none-any.whl (8.4 kB)\n",
            "Installing collected packages: split-folders\n",
            "Successfully installed split-folders-0.5.1\n"
          ]
        }
      ]
    },
    {
      "cell_type": "code",
      "source": [
        "!pip install torchinfo"
      ],
      "metadata": {
        "colab": {
          "base_uri": "https://localhost:8080/"
        },
        "id": "f_FQU0S80oHz",
        "outputId": "18ebbc15-de84-4447-ec59-9a5b4fd70dc2"
      },
      "execution_count": null,
      "outputs": [
        {
          "output_type": "stream",
          "name": "stdout",
          "text": [
            "Collecting torchinfo\n",
            "  Downloading torchinfo-1.8.0-py3-none-any.whl (23 kB)\n",
            "Installing collected packages: torchinfo\n",
            "Successfully installed torchinfo-1.8.0\n"
          ]
        }
      ]
    },
    {
      "cell_type": "code",
      "execution_count": null,
      "metadata": {
        "id": "lXNfwMgEz5uw"
      },
      "outputs": [],
      "source": [
        "import requests\n",
        "from zipfile import ZipFile\n",
        "from pathlib import Path\n",
        "\n",
        "import os\n",
        "import glob\n",
        "\n",
        "import random as random\n",
        "from PIL import Image\n",
        "\n",
        "import torch\n",
        "from torch import nn\n",
        "\n",
        "from torch.utils.data import DataLoader\n",
        "from torch.utils.data import Dataset\n",
        "\n",
        "import torchvision\n",
        "from torchmetrics import ConfusionMatrix\n",
        "from mlxtend.plotting import plot_confusion_matrix\n",
        "\n",
        "from torchvision import datasets\n",
        "from torchvision import transforms\n",
        "\n",
        "import torchmetrics\n",
        "import mlxtend\n",
        "\n",
        "import matplotlib.pyplot as plt\n",
        "\n",
        "from typing import Tuple\n",
        "from typing import Dict\n",
        "from typing import List\n",
        "from timeit import default_timer as timer\n",
        "from matplotlib import patches as mpatches\n",
        "\n",
        "from tqdm.auto import tqdm\n",
        "\n",
        "import gc\n",
        "\n",
        "from numba import cuda\n",
        "\n",
        "from GPUtil import showUtilization as gpu_usage\n",
        "\n",
        "import splitfolders\n",
        "\n",
        "from torchinfo import summary\n",
        "\n",
        "import shutil\n",
        "\n",
        "import numpy as np\n",
        "import pandas as pd\n",
        "import yaml\n",
        "\n",
        "from os import listdir\n",
        "from os.path import isfile, join"
      ]
    },
    {
      "cell_type": "code",
      "source": [
        "def extract_data(zipfile_path: Path, destination_path: Path) -> None:\n",
        "    '''Extracts zipfile'''\n",
        "\n",
        "    if destination_path.is_dir():\n",
        "        print(f\"{destination_path} exists.\")\n",
        "    else:\n",
        "        print(f\"{destination_path} doesn't exist, creating one...\")\n",
        "        destination_path.mkdir(parents=True, exist_ok=True)\n",
        "\n",
        "    if not os.listdir(destination_path):\n",
        "        with ZipFile(zipfile_path, 'r') as zip:\n",
        "            print(\"Extracting files...\")\n",
        "            zip.extractall(destination_path)\n",
        "\n",
        "            print(\"Extracting finished.\")\n",
        "    else:\n",
        "        print(\"Data already extracted.\")\n",
        "\n",
        "data_path = Path(\"/content\")\n",
        "zipfile_path = data_path / \"emotions_archive.zip\"\n",
        "images_path = data_path / \"emotions_dataset\"\n",
        "\n",
        "extract_data(zipfile_path, images_path)"
      ],
      "metadata": {
        "colab": {
          "base_uri": "https://localhost:8080/"
        },
        "id": "Mvhp_Sm2z_zJ",
        "outputId": "e54296c9-5616-4b5e-f61c-bb955a5d1d3a"
      },
      "execution_count": null,
      "outputs": [
        {
          "output_type": "stream",
          "name": "stdout",
          "text": [
            "/content/emotions_dataset doesn't exist, creating one...\n",
            "Extracting files...\n",
            "Extracting finished.\n"
          ]
        }
      ]
    },
    {
      "cell_type": "code",
      "source": [
        "# len(os.listdir('/content/emotions_dataset/train/sad'))"
      ],
      "metadata": {
        "colab": {
          "base_uri": "https://localhost:8080/"
        },
        "id": "6H8D342S416h",
        "outputId": "1b5542fb-1402-4a45-fea3-bc27b0cb6868"
      },
      "execution_count": null,
      "outputs": [
        {
          "output_type": "execute_result",
          "data": {
            "text/plain": [
              "4830"
            ]
          },
          "metadata": {},
          "execution_count": 11
        }
      ]
    },
    {
      "cell_type": "code",
      "source": [
        "def walk_through_dir(dir_path: Path) -> None:\n",
        "    \"\"\"Prints dir_path content\"\"\"\n",
        "    for dirpath, dirnames, filenames in os.walk(dir_path):\n",
        "        print(f\"There are {len(dirnames)} directiories and {len(filenames)} images in '{dirpath}' folder \")\n",
        "\n",
        "\n",
        "walk_through_dir(images_path)"
      ],
      "metadata": {
        "colab": {
          "base_uri": "https://localhost:8080/"
        },
        "id": "UTSQa2xc1u7t",
        "outputId": "0ea54539-04e1-44cb-e628-983b50e2b85f"
      },
      "execution_count": null,
      "outputs": [
        {
          "output_type": "stream",
          "name": "stdout",
          "text": [
            "There are 2 directiories and 0 images in '/content/emotions_dataset' folder \n",
            "There are 7 directiories and 0 images in '/content/emotions_dataset/train' folder \n",
            "There are 0 directiories and 3995 images in '/content/emotions_dataset/train/angry' folder \n",
            "There are 0 directiories and 3171 images in '/content/emotions_dataset/train/surprised' folder \n",
            "There are 0 directiories and 4965 images in '/content/emotions_dataset/train/neutral' folder \n",
            "There are 0 directiories and 4097 images in '/content/emotions_dataset/train/fearful' folder \n",
            "There are 0 directiories and 7215 images in '/content/emotions_dataset/train/happy' folder \n",
            "There are 0 directiories and 436 images in '/content/emotions_dataset/train/disgusted' folder \n",
            "There are 0 directiories and 4830 images in '/content/emotions_dataset/train/sad' folder \n",
            "There are 7 directiories and 0 images in '/content/emotions_dataset/test' folder \n",
            "There are 0 directiories and 958 images in '/content/emotions_dataset/test/angry' folder \n",
            "There are 0 directiories and 831 images in '/content/emotions_dataset/test/surprised' folder \n",
            "There are 0 directiories and 1233 images in '/content/emotions_dataset/test/neutral' folder \n",
            "There are 0 directiories and 1024 images in '/content/emotions_dataset/test/fearful' folder \n",
            "There are 0 directiories and 1774 images in '/content/emotions_dataset/test/happy' folder \n",
            "There are 0 directiories and 111 images in '/content/emotions_dataset/test/disgusted' folder \n",
            "There are 0 directiories and 1247 images in '/content/emotions_dataset/test/sad' folder \n"
          ]
        }
      ]
    },
    {
      "cell_type": "code",
      "source": [
        "%matplotlib inline\n",
        "\n",
        "def print_random_image(images_path: list, seed=None) -> None:\n",
        "    \"\"\"Prints one random photo with details such as class, heigh, width\"\"\"\n",
        "    if seed:\n",
        "        random.seed(seed)\n",
        "\n",
        "    random_image_path = random.choice(images_path)\n",
        "    image_class = random_image_path.parent.stem\n",
        "    image = Image.open(random_image_path)\n",
        "    print(f\"Random image path: {random_image_path}\")\n",
        "    print(f\"Random image class: {image_class}\")\n",
        "    print(f\"Image height: {image.height}\")\n",
        "    print(f\"Image width: {image.width}\")\n",
        "    plt.imshow(image.convert('P'))\n",
        "\n",
        "\n",
        "image_path_list = list(images_path.glob(\"*/*/*\"))\n",
        "print_random_image(image_path_list)"
      ],
      "metadata": {
        "colab": {
          "base_uri": "https://localhost:8080/",
          "height": 505
        },
        "id": "8TiSROX51zeZ",
        "outputId": "7d12a17c-73a5-43e9-f816-40cf5bf4e44c"
      },
      "execution_count": null,
      "outputs": [
        {
          "output_type": "stream",
          "name": "stdout",
          "text": [
            "Random image path: /content/emotions_dataset/train/angry/im2880.png\n",
            "Random image class: angry\n",
            "Image height: 48\n",
            "Image width: 48\n"
          ]
        },
        {
          "output_type": "display_data",
          "data": {
            "text/plain": [
              "<Figure size 640x480 with 1 Axes>"
            ],
            "image/png": "[encoded data removed]"
          },
          "metadata": {}
        }
      ]
    },
    {
      "cell_type": "code",
      "source": [
        "train_transform = transforms.Compose(\n",
        "    [transforms.Resize(size=(224, 224)),\n",
        "     transforms.ToTensor()]\n",
        ")\n",
        "\n",
        "val_transform = transforms.Compose(\n",
        "    [transforms.Resize(size=(224, 224)),\n",
        "     transforms.ToTensor()]\n",
        ")"
      ],
      "metadata": {
        "id": "aqjebl0712eS"
      },
      "execution_count": null,
      "outputs": []
    },
    {
      "cell_type": "code",
      "source": [
        "def plot_transformed_images(images_path: Path,\n",
        "                            transform: transforms,\n",
        "                            n: int=3,\n",
        "                            seed=None) -> None:\n",
        "    \"\"\"Selects random images from a path, transforms them and plots original vs transform\"\"\"\n",
        "    if seed:\n",
        "        random.seed(seed)\n",
        "\n",
        "    if n > 10:\n",
        "        print(\"n shouldn't be higher than 10 due to the size of displayed plot, changing n to 10\")\n",
        "        n = 10\n",
        "\n",
        "    random_image_paths = random.sample(images_path, k=n)\n",
        "\n",
        "    for image_path in random_image_paths:\n",
        "        with Image.open(image_path).convert('RGB') as f:\n",
        "            fig, ax = plt.subplots(nrows=1, ncols=2)\n",
        "            ax[0].imshow(f)\n",
        "            ax[0].set_title(f\"Original\\nsize: {f.size}\")\n",
        "            ax[0].axis(False)\n",
        "\n",
        "            transformed_image = transform(f).permute(1, 2, 0)\n",
        "            ax[1].imshow(transformed_image)\n",
        "            ax[1].set_title(f\"Transformed\\nshape: {transformed_image.shape}\")\n",
        "            ax[1].axis(False)\n",
        "\n",
        "\n",
        "plot_transformed_images(image_path_list, train_transform)"
      ],
      "metadata": {
        "colab": {
          "base_uri": "https://localhost:8080/",
          "height": 881
        },
        "id": "MCPKOdGk14zo",
        "outputId": "c0a98c67-a336-46f3-f7f1-df0ddaa9908c"
      },
      "execution_count": null,
      "outputs": [
        {
          "output_type": "display_data",
          "data": {
            "text/plain": [
              "<Figure size 640x480 with 2 Axes>"
            ],
            "image/png": "[encoded data removed]"
          },
          "metadata": {}
        },
        {
          "output_type": "display_data",
          "data": {
            "text/plain": [
              "<Figure size 640x480 with 2 Axes>"
            ],
            "image/png": "[encoded data removed]"
          },
          "metadata": {}
        },
        {
          "output_type": "display_data",
          "data": {
            "text/plain": [
              "<Figure size 640x480 with 2 Axes>"
            ],
            "image/png": "[encoded data removed]"
          },
          "metadata": {}
        }
      ]
    },
    {
      "cell_type": "code",
      "source": [
        "train_dir = images_path / \"train\"\n",
        "val_dir = images_path / \"test\"\n",
        "\n",
        "train_data = datasets.ImageFolder(\n",
        "    root=train_dir,\n",
        "    transform=train_transform\n",
        ")\n",
        "\n",
        "val_data = datasets.ImageFolder(\n",
        "    root=val_dir,\n",
        "    transform=val_transform\n",
        ")"
      ],
      "metadata": {
        "id": "Byo7be3K17WZ"
      },
      "execution_count": null,
      "outputs": []
    },
    {
      "cell_type": "code",
      "source": [
        "BATCH_SIZE = 8\n",
        "\n",
        "train_dataloader = DataLoader(\n",
        "    dataset=train_data,\n",
        "    batch_size=BATCH_SIZE,\n",
        "    shuffle=True,\n",
        "    num_workers=4\n",
        ")\n",
        "\n",
        "val_dataloader = DataLoader(\n",
        "    dataset=val_data,\n",
        "    batch_size=BATCH_SIZE,\n",
        "    shuffle=False,\n",
        "    num_workers=4\n",
        ")\n",
        "\n",
        "image_batch, label_batch = next(iter(train_dataloader))\n",
        "image_batch.shape, label_batch.shape"
      ],
      "metadata": {
        "colab": {
          "base_uri": "https://localhost:8080/"
        },
        "id": "BosYk8FV2FuE",
        "outputId": "c5c53405-75ab-47be-880c-d3795660cf99"
      },
      "execution_count": null,
      "outputs": [
        {
          "output_type": "stream",
          "name": "stderr",
          "text": [
            "/usr/local/lib/python3.10/dist-packages/torch/utils/data/dataloader.py:558: UserWarning: This DataLoader will create 4 worker processes in total. Our suggested max number of worker in current system is 2, which is smaller than what this DataLoader is going to create. Please be aware that excessive worker creation might get DataLoader running slow or even freeze, lower the worker number to avoid potential slowness/freeze if necessary.\n",
            "  warnings.warn(_create_warning_msg(\n",
            "/usr/lib/python3.10/multiprocessing/popen_fork.py:66: RuntimeWarning: os.fork() was called. os.fork() is incompatible with multithreaded code, and JAX is multithreaded, so this will likely lead to a deadlock.\n",
            "  self.pid = os.fork()\n",
            "/usr/lib/python3.10/multiprocessing/popen_fork.py:66: RuntimeWarning: os.fork() was called. os.fork() is incompatible with multithreaded code, and JAX is multithreaded, so this will likely lead to a deadlock.\n",
            "  self.pid = os.fork()\n"
          ]
        },
        {
          "output_type": "execute_result",
          "data": {
            "text/plain": [
              "(torch.Size([8, 3, 224, 224]), torch.Size([8]))"
            ]
          },
          "metadata": {},
          "execution_count": 17
        }
      ]
    },
    {
      "cell_type": "code",
      "source": [
        "device = \"cuda\" if torch.cuda.is_available() else \"cpu\"\n",
        "device"
      ],
      "metadata": {
        "colab": {
          "base_uri": "https://localhost:8080/",
          "height": 36
        },
        "id": "invf4xWl2Qo5",
        "outputId": "bfb25def-f9cf-4e2a-e8a9-aee6d4a7ee28"
      },
      "execution_count": null,
      "outputs": [
        {
          "output_type": "execute_result",
          "data": {
            "text/plain": [
              "'cpu'"
            ],
            "application/vnd.google.colaboratory.intrinsic+json": {
              "type": "string"
            }
          },
          "metadata": {},
          "execution_count": 18
        }
      ]
    },
    {
      "cell_type": "code",
      "source": [
        "BATCH_SIZE = 16\n",
        "model = torchvision.models.efficientnet_b0().to(device)\n",
        "\n",
        "summary(\n",
        "    model=model,\n",
        "    input_size=(BATCH_SIZE, 3, 224, 224),\n",
        "    col_names=[\"input_size\", \"output_size\", \"num_params\", \"trainable\"],\n",
        "    col_width=20,\n",
        "    row_settings=[\"var_names\"]\n",
        ")"
      ],
      "metadata": {
        "colab": {
          "base_uri": "https://localhost:8080/"
        },
        "id": "W4q00G0f2Tn3",
        "outputId": "1a361fc1-c562-42ef-e81e-5a31c5a481ae"
      },
      "execution_count": null,
      "outputs": [
        {
          "output_type": "execute_result",
          "data": {
            "text/plain": [
              "============================================================================================================================================\n",
              "Layer (type (var_name))                                      Input Shape          Output Shape         Param #              Trainable\n",
              "============================================================================================================================================\n",
              "EfficientNet (EfficientNet)                                  [16, 3, 224, 224]    [16, 1000]           --                   True\n",
              "├─Sequential (features)                                      [16, 3, 224, 224]    [16, 1280, 7, 7]     --                   True\n",
              "│    └─Conv2dNormActivation (0)                              [16, 3, 224, 224]    [16, 32, 112, 112]   --                   True\n",
              "│    │    └─Conv2d (0)                                       [16, 3, 224, 224]    [16, 32, 112, 112]   864                  True\n",
              "│    │    └─BatchNorm2d (1)                                  [16, 32, 112, 112]   [16, 32, 112, 112]   64                   True\n",
              "│    │    └─SiLU (2)                                         [16, 32, 112, 112]   [16, 32, 112, 112]   --                   --\n",
              "│    └─Sequential (1)                                        [16, 32, 112, 112]   [16, 16, 112, 112]   --                   True\n",
              "│    │    └─MBConv (0)                                       [16, 32, 112, 112]   [16, 16, 112, 112]   1,448                True\n",
              "│    └─Sequential (2)                                        [16, 16, 112, 112]   [16, 24, 56, 56]     --                   True\n",
              "│    │    └─MBConv (0)                                       [16, 16, 112, 112]   [16, 24, 56, 56]     6,004                True\n",
              "│    │    └─MBConv (1)                                       [16, 24, 56, 56]     [16, 24, 56, 56]     10,710               True\n",
              "│    └─Sequential (3)                                        [16, 24, 56, 56]     [16, 40, 28, 28]     --                   True\n",
              "│    │    └─MBConv (0)                                       [16, 24, 56, 56]     [16, 40, 28, 28]     15,350               True\n",
              "│    │    └─MBConv (1)                                       [16, 40, 28, 28]     [16, 40, 28, 28]     31,290               True\n",
              "│    └─Sequential (4)                                        [16, 40, 28, 28]     [16, 80, 14, 14]     --                   True\n",
              "│    │    └─MBConv (0)                                       [16, 40, 28, 28]     [16, 80, 14, 14]     37,130               True\n",
              "│    │    └─MBConv (1)                                       [16, 80, 14, 14]     [16, 80, 14, 14]     102,900              True\n",
              "│    │    └─MBConv (2)                                       [16, 80, 14, 14]     [16, 80, 14, 14]     102,900              True\n",
              "│    └─Sequential (5)                                        [16, 80, 14, 14]     [16, 112, 14, 14]    --                   True\n",
              "│    │    └─MBConv (0)                                       [16, 80, 14, 14]     [16, 112, 14, 14]    126,004              True\n",
              "│    │    └─MBConv (1)                                       [16, 112, 14, 14]    [16, 112, 14, 14]    208,572              True\n",
              "│    │    └─MBConv (2)                                       [16, 112, 14, 14]    [16, 112, 14, 14]    208,572              True\n",
              "│    └─Sequential (6)                                        [16, 112, 14, 14]    [16, 192, 7, 7]      --                   True\n",
              "│    │    └─MBConv (0)                                       [16, 112, 14, 14]    [16, 192, 7, 7]      262,492              True\n",
              "│    │    └─MBConv (1)                                       [16, 192, 7, 7]      [16, 192, 7, 7]      587,952              True\n",
              "│    │    └─MBConv (2)                                       [16, 192, 7, 7]      [16, 192, 7, 7]      587,952              True\n",
              "│    │    └─MBConv (3)                                       [16, 192, 7, 7]      [16, 192, 7, 7]      587,952              True\n",
              "│    └─Sequential (7)                                        [16, 192, 7, 7]      [16, 320, 7, 7]      --                   True\n",
              "│    │    └─MBConv (0)                                       [16, 192, 7, 7]      [16, 320, 7, 7]      717,232              True\n",
              "│    └─Conv2dNormActivation (8)                              [16, 320, 7, 7]      [16, 1280, 7, 7]     --                   True\n",
              "│    │    └─Conv2d (0)                                       [16, 320, 7, 7]      [16, 1280, 7, 7]     409,600              True\n",
              "│    │    └─BatchNorm2d (1)                                  [16, 1280, 7, 7]     [16, 1280, 7, 7]     2,560                True\n",
              "│    │    └─SiLU (2)                                         [16, 1280, 7, 7]     [16, 1280, 7, 7]     --                   --\n",
              "├─AdaptiveAvgPool2d (avgpool)                                [16, 1280, 7, 7]     [16, 1280, 1, 1]     --                   --\n",
              "├─Sequential (classifier)                                    [16, 1280]           [16, 1000]           --                   True\n",
              "│    └─Dropout (0)                                           [16, 1280]           [16, 1280]           --                   --\n",
              "│    └─Linear (1)                                            [16, 1280]           [16, 1000]           1,281,000            True\n",
              "============================================================================================================================================\n",
              "Total params: 5,288,548\n",
              "Trainable params: 5,288,548\n",
              "Non-trainable params: 0\n",
              "Total mult-adds (G): 6.17\n",
              "============================================================================================================================================\n",
              "Input size (MB): 9.63\n",
              "Forward/backward pass size (MB): 1726.17\n",
              "Params size (MB): 21.15\n",
              "Estimated Total Size (MB): 1756.96\n",
              "============================================================================================================================================"
            ]
          },
          "metadata": {},
          "execution_count": 19
        }
      ]
    },
    {
      "cell_type": "code",
      "source": [
        "output_shape = len(train_data.classes)\n",
        "\n",
        "model.classifier = torch.nn.Sequential(\n",
        "    torch.nn.Dropout(p=0.2, inplace=True),\n",
        "    torch.nn.Linear(in_features=1280,\n",
        "                    out_features=output_shape, # same number of output units as our number of classes\n",
        "                    bias=True)).to(device)\n",
        "\n",
        "summary(\n",
        "    model=model,\n",
        "    input_size=(BATCH_SIZE, 3, 224, 224),\n",
        "    col_names=[\"input_size\", \"output_size\", \"num_params\", \"trainable\"],\n",
        "    col_width=20,\n",
        "    row_settings=[\"var_names\"]\n",
        ")"
      ],
      "metadata": {
        "colab": {
          "base_uri": "https://localhost:8080/"
        },
        "id": "zImHYNL62UpV",
        "outputId": "f26116db-0fc1-4a9e-f20e-af6ca2bd34d0"
      },
      "execution_count": null,
      "outputs": [
        {
          "output_type": "execute_result",
          "data": {
            "text/plain": [
              "============================================================================================================================================\n",
              "Layer (type (var_name))                                      Input Shape          Output Shape         Param #              Trainable\n",
              "============================================================================================================================================\n",
              "EfficientNet (EfficientNet)                                  [16, 3, 224, 224]    [16, 7]              --                   True\n",
              "├─Sequential (features)                                      [16, 3, 224, 224]    [16, 1280, 7, 7]     --                   True\n",
              "│    └─Conv2dNormActivation (0)                              [16, 3, 224, 224]    [16, 32, 112, 112]   --                   True\n",
              "│    │    └─Conv2d (0)                                       [16, 3, 224, 224]    [16, 32, 112, 112]   864                  True\n",
              "│    │    └─BatchNorm2d (1)                                  [16, 32, 112, 112]   [16, 32, 112, 112]   64                   True\n",
              "│    │    └─SiLU (2)                                         [16, 32, 112, 112]   [16, 32, 112, 112]   --                   --\n",
              "│    └─Sequential (1)                                        [16, 32, 112, 112]   [16, 16, 112, 112]   --                   True\n",
              "│    │    └─MBConv (0)                                       [16, 32, 112, 112]   [16, 16, 112, 112]   1,448                True\n",
              "│    └─Sequential (2)                                        [16, 16, 112, 112]   [16, 24, 56, 56]     --                   True\n",
              "│    │    └─MBConv (0)                                       [16, 16, 112, 112]   [16, 24, 56, 56]     6,004                True\n",
              "│    │    └─MBConv (1)                                       [16, 24, 56, 56]     [16, 24, 56, 56]     10,710               True\n",
              "│    └─Sequential (3)                                        [16, 24, 56, 56]     [16, 40, 28, 28]     --                   True\n",
              "│    │    └─MBConv (0)                                       [16, 24, 56, 56]     [16, 40, 28, 28]     15,350               True\n",
              "│    │    └─MBConv (1)                                       [16, 40, 28, 28]     [16, 40, 28, 28]     31,290               True\n",
              "│    └─Sequential (4)                                        [16, 40, 28, 28]     [16, 80, 14, 14]     --                   True\n",
              "│    │    └─MBConv (0)                                       [16, 40, 28, 28]     [16, 80, 14, 14]     37,130               True\n",
              "│    │    └─MBConv (1)                                       [16, 80, 14, 14]     [16, 80, 14, 14]     102,900              True\n",
              "│    │    └─MBConv (2)                                       [16, 80, 14, 14]     [16, 80, 14, 14]     102,900              True\n",
              "│    └─Sequential (5)                                        [16, 80, 14, 14]     [16, 112, 14, 14]    --                   True\n",
              "│    │    └─MBConv (0)                                       [16, 80, 14, 14]     [16, 112, 14, 14]    126,004              True\n",
              "│    │    └─MBConv (1)                                       [16, 112, 14, 14]    [16, 112, 14, 14]    208,572              True\n",
              "│    │    └─MBConv (2)                                       [16, 112, 14, 14]    [16, 112, 14, 14]    208,572              True\n",
              "│    └─Sequential (6)                                        [16, 112, 14, 14]    [16, 192, 7, 7]      --                   True\n",
              "│    │    └─MBConv (0)                                       [16, 112, 14, 14]    [16, 192, 7, 7]      262,492              True\n",
              "│    │    └─MBConv (1)                                       [16, 192, 7, 7]      [16, 192, 7, 7]      587,952              True\n",
              "│    │    └─MBConv (2)                                       [16, 192, 7, 7]      [16, 192, 7, 7]      587,952              True\n",
              "│    │    └─MBConv (3)                                       [16, 192, 7, 7]      [16, 192, 7, 7]      587,952              True\n",
              "│    └─Sequential (7)                                        [16, 192, 7, 7]      [16, 320, 7, 7]      --                   True\n",
              "│    │    └─MBConv (0)                                       [16, 192, 7, 7]      [16, 320, 7, 7]      717,232              True\n",
              "│    └─Conv2dNormActivation (8)                              [16, 320, 7, 7]      [16, 1280, 7, 7]     --                   True\n",
              "│    │    └─Conv2d (0)                                       [16, 320, 7, 7]      [16, 1280, 7, 7]     409,600              True\n",
              "│    │    └─BatchNorm2d (1)                                  [16, 1280, 7, 7]     [16, 1280, 7, 7]     2,560                True\n",
              "│    │    └─SiLU (2)                                         [16, 1280, 7, 7]     [16, 1280, 7, 7]     --                   --\n",
              "├─AdaptiveAvgPool2d (avgpool)                                [16, 1280, 7, 7]     [16, 1280, 1, 1]     --                   --\n",
              "├─Sequential (classifier)                                    [16, 1280]           [16, 7]              --                   True\n",
              "│    └─Dropout (0)                                           [16, 1280]           [16, 1280]           --                   --\n",
              "│    └─Linear (1)                                            [16, 1280]           [16, 7]              8,967                True\n",
              "============================================================================================================================================\n",
              "Total params: 4,016,515\n",
              "Trainable params: 4,016,515\n",
              "Non-trainable params: 0\n",
              "Total mult-adds (G): 6.15\n",
              "============================================================================================================================================\n",
              "Input size (MB): 9.63\n",
              "Forward/backward pass size (MB): 1726.05\n",
              "Params size (MB): 16.07\n",
              "Estimated Total Size (MB): 1751.75\n",
              "============================================================================================================================================"
            ]
          },
          "metadata": {},
          "execution_count": 20
        }
      ]
    },
    {
      "cell_type": "code",
      "source": [
        "def train_step(\n",
        "    model: torch.nn.Module,\n",
        "    dataloader: torch.utils.data.DataLoader,\n",
        "    loss_fn: torch.nn.Module,\n",
        "    optimizer: torch.optim.Optimizer,\n",
        "    device: torch.device) -> Tuple[float, float]:\n",
        "\n",
        "    model.train()\n",
        "    train_loss, train_acc = 0, 0\n",
        "\n",
        "    for batch, (X, y) in enumerate(dataloader):\n",
        "        X, y = X.to(device), y.to(device)\n",
        "        y_pred = model(X)\n",
        "        loss = loss_fn(y_pred, y)\n",
        "        train_loss += loss.item()\n",
        "\n",
        "        optimizer.zero_grad()\n",
        "\n",
        "        loss.backward()\n",
        "\n",
        "        optimizer.step()\n",
        "\n",
        "        y_pred_class = torch.argmax(y_pred, dim=1)\n",
        "        train_acc += (y_pred_class == y).sum().item() / len(y_pred)\n",
        "\n",
        "    train_loss = train_loss / len(dataloader)\n",
        "    train_acc = train_acc / len(dataloader)\n",
        "\n",
        "    return train_loss, train_acc\n",
        "\n",
        "\n",
        "def val_step(\n",
        "    model: torch.nn.Module,\n",
        "    dataloader: torch.utils.data.DataLoader,\n",
        "    loss_fn: torch.nn.Module,\n",
        "    device: torch.device) -> Tuple[float, float, torch.Tensor]:\n",
        "\n",
        "    model.eval()\n",
        "    val_loss, val_acc = 0, 0\n",
        "    y_preds = []\n",
        "\n",
        "    with torch.inference_mode():\n",
        "        for batch, (X, y) in enumerate(dataloader):\n",
        "            X, y = X.to(device), y.to(device)\n",
        "            val_pred_logits = model(X)\n",
        "            loss = loss_fn(val_pred_logits, y)\n",
        "            val_loss += loss.item()\n",
        "\n",
        "            val_pred_labels = torch.argmax(val_pred_logits, dim=1)\n",
        "            val_acc += ((val_pred_labels == y).sum().item() / len(val_pred_labels))\n",
        "            y_preds.append(val_pred_labels.cpu())\n",
        "\n",
        "    val_loss = val_loss / len(dataloader)\n",
        "    val_acc = val_acc / len(dataloader)\n",
        "\n",
        "    y_pred_tensor = torch.cat(y_preds)\n",
        "\n",
        "    return val_loss, val_acc, y_pred_tensor\n",
        "\n",
        "\n",
        "def train(\n",
        "    model: torch.nn.Module,\n",
        "    train_dataloader: torch.utils.data.DataLoader,\n",
        "    val_dataloader: torch.utils.data.DataLoader,\n",
        "    optimizer: torch.optim.Optimizer,\n",
        "    loss_fn: torch.nn.Module,\n",
        "    epochs: int,\n",
        "    device: torch.device) -> Tuple[Dict, torch.Tensor]:\n",
        "\n",
        "    results = {\"train_loss\": [],\n",
        "             \"train_acc\": [],\n",
        "             \"val_loss\": [],\n",
        "             \"val_acc\": []}\n",
        "\n",
        "    for epoch in tqdm(range(epochs)):\n",
        "        train_loss, train_acc = train_step(\n",
        "            model=model,\n",
        "            dataloader=train_dataloader,\n",
        "            loss_fn=loss_fn,\n",
        "            optimizer=optimizer,\n",
        "            device=device\n",
        "        )\n",
        "\n",
        "        val_loss, val_acc, y_preds = val_step(\n",
        "            model=model,\n",
        "            dataloader=val_dataloader,\n",
        "            loss_fn=loss_fn,\n",
        "            device=device\n",
        "        )\n",
        "\n",
        "        print(f\"Epoch: {epoch}, Train loss: {train_loss:.3f}, Train acc: {train_acc:.3f}, Val loss: {val_loss:.3f}, Val acc: {val_acc:.3f}\")\n",
        "\n",
        "        results[\"train_loss\"].append(train_loss)\n",
        "        results[\"train_acc\"].append(train_acc)\n",
        "        results[\"val_loss\"].append(val_loss)\n",
        "        results[\"val_acc\"].append(val_acc)\n",
        "\n",
        "    return results, y_preds"
      ],
      "metadata": {
        "id": "IAteBJNs2kpL"
      },
      "execution_count": null,
      "outputs": []
    },
    {
      "cell_type": "code",
      "source": [
        "torch.cuda.manual_seed(42)\n",
        "torch.manual_seed(42)\n",
        "\n",
        "EPOCHS = 10\n",
        "\n",
        "loss_fn = nn.CrossEntropyLoss()\n",
        "\n",
        "optimizer = torch.optim.SGD(\n",
        "    params=model.parameters(),\n",
        "    lr=0.01\n",
        ")\n",
        "\n",
        "start_time = timer()\n",
        "\n",
        "model_results, preds = train(\n",
        "    model=model,\n",
        "    train_dataloader=train_dataloader,\n",
        "    val_dataloader=val_dataloader,\n",
        "    optimizer=optimizer,\n",
        "    loss_fn=loss_fn,\n",
        "    epochs=EPOCHS,\n",
        "    device=device\n",
        ")\n",
        "\n",
        "end_time = timer()\n",
        "print(f\"Total learning time: {(end_time - start_time):.3f}\")"
      ],
      "metadata": {
        "colab": {
          "base_uri": "https://localhost:8080/",
          "height": 49,
          "referenced_widgets": [
            "2c860e30c5434996b3126e1aa56343c1",
            "5cfb08a16d134970a9fdb3ab64a32549",
            "814a6b5e6ad648428394f0279982c30c",
            "3146aa4c8aca4edfa322a08a0c8b38c7",
            "f06cf772c7a04abf9fc07ba211283962",
            "337390a6f1214f78bad58da2704177ee",
            "c61d08f56cfb44a4bda1d06bbc257fc2",
            "ae6f5ddbd7dc43289caeb29cd69dfed2",
            "9916b261029d41a69096c3ffc2e2760a",
            "bf2b6bfc25624d128e5d0f16b6121baf",
            "38533f782e434f4a93e9e77a81dcbb5e"
          ]
        },
        "id": "HTbcY6TU2lqN",
        "outputId": "cd78878f-b2aa-491a-d2d1-8311ec852790"
      },
      "execution_count": null,
      "outputs": [
        {
          "data": {
            "application/vnd.jupyter.widget-view+json": {
              "model_id": "2c860e30c5434996b3126e1aa56343c1",
              "version_major": 2,
              "version_minor": 0
            },
            "text/plain": [
              "  0%|          | 0/10 [00:00<?, ?it/s]"
            ]
          },
          "metadata": {},
          "output_type": "display_data"
        }
      ]
    },
    {
      "cell_type": "code",
      "source": [
        "def plot_curves(results: Dict[str, List[float]]) -> None:\n",
        "    \"\"\"Plots loss and accuracy from a results dictionary.\"\"\"\n",
        "\n",
        "    train_loss = results[\"train_loss\"]\n",
        "    val_loss = results[\"val_loss\"]\n",
        "\n",
        "    train_accuracy = results[\"train_acc\"]\n",
        "    val_accuracy = results[\"val_acc\"]\n",
        "\n",
        "    epochs = range(len(results[\"train_loss\"]))\n",
        "\n",
        "    plt.figure(figsize=(15, 7))\n",
        "    plt.subplot(1, 2, 1)\n",
        "    plt.plot(epochs, train_loss, label=\"train_loss\")\n",
        "    plt.plot(epochs, val_loss, label=\"val_loss\")\n",
        "    plt.title(\"Loss\")\n",
        "    plt.xlabel(\"Epochs\")\n",
        "    plt.legend()\n",
        "\n",
        "    plt.subplot(1, 2, 2)\n",
        "    plt.plot(epochs, train_accuracy, label=\"train_accuracy\")\n",
        "    plt.plot(epochs, val_accuracy, label=\"val_accuracy\")\n",
        "    plt.title(\"Accuracy\")\n",
        "    plt.xlabel(\"Epochs\")\n",
        "    plt.legend()\n",
        "\n",
        "\n",
        "plot_curves(model_results)"
      ],
      "metadata": {
        "id": "ku32T-1o6Vfd"
      },
      "execution_count": null,
      "outputs": []
    },
    {
      "cell_type": "code",
      "source": [
        "def draw_confusion_matrix(data: datasets.ImageFolder,\n",
        "                          preds: torch.Tensor) -> None:\n",
        "\n",
        "    confmat = ConfusionMatrix(num_classes=len(data.classes))\n",
        "    confmat_tensor = confmat(\n",
        "        preds=preds,\n",
        "        target=torch.ShortTensor(val_data.targets)\n",
        "    )\n",
        "\n",
        "    fig, ax = plot_confusion_matrix(\n",
        "        conf_mat=confmat_tensor.numpy(),\n",
        "        class_names=data.classes,\n",
        "        figsize=(10, 7))\n",
        "\n",
        "\n",
        "draw_confusion_matrix(data=val_data,\n",
        "                      preds=preds)"
      ],
      "metadata": {
        "id": "CIiGBXM76n05"
      },
      "execution_count": null,
      "outputs": []
    },
    {
      "cell_type": "code",
      "source": [
        "def make_predictions(model: torch.nn.Module,\n",
        "                     data: list,\n",
        "                     device: torch.device) -> torch.Tensor:\n",
        "\n",
        "    pred_probs = []\n",
        "    model.eval()\n",
        "\n",
        "    with torch.inference_mode():\n",
        "        for sample in data:\n",
        "            sample = torch.unsqueeze(sample, dim=0).to(device)\n",
        "            pred_logit = model(sample)\n",
        "            pred_prob = torch.softmax(pred_logit.squeeze(), dim=0)\n",
        "            pred_probs.append(pred_prob.cpu())\n",
        "\n",
        "    return torch.stack(pred_probs)\n",
        "\n",
        "\n",
        "def show_predictions(model: torch.nn.Module,\n",
        "                     device: torch.device,\n",
        "                     val_data: datasets) -> None:\n",
        "\n",
        "    val_samples = []\n",
        "    val_labels = []\n",
        "\n",
        "    for sample, label in random.sample(list(val_data), k=9):\n",
        "        val_samples.append(sample)\n",
        "        val_labels.append(label)\n",
        "\n",
        "    pred_probs = make_predictions(\n",
        "        model=model,\n",
        "        data=val_samples,\n",
        "        device=device\n",
        "    )\n",
        "\n",
        "    pred_classes = pred_probs.argmax(dim=1)\n",
        "    plt.figure(figsize=(9, 9))\n",
        "    nrows = 3\n",
        "    ncols = 3\n",
        "\n",
        "    for i, sample in enumerate(val_samples):\n",
        "        plt.subplot(nrows, ncols, i+1)\n",
        "        image = sample.squeeze().permute(1, 2, 0)\n",
        "        plt.imshow(image)\n",
        "        pred_label = val_data.classes[pred_classes[i]]\n",
        "        truth_label = val_data.classes[val_labels[i]]\n",
        "        title_text = f\"Pred: {pred_label} | Truth: {truth_label}\"\n",
        "\n",
        "        if pred_label == truth_label:\n",
        "            plt.title(title_text, fontsize=10, c=\"g\")\n",
        "        else:\n",
        "            plt.title(title_text, fontsize=10, c=\"r\")\n",
        "        plt.axis(False)\n",
        "\n",
        "\n",
        "show_predictions(\n",
        "    model=model,\n",
        "    val_data=val_data,\n",
        "    device=device)"
      ],
      "metadata": {
        "id": "exVZfQEq6qIC"
      },
      "execution_count": null,
      "outputs": []
    }
  ]
}